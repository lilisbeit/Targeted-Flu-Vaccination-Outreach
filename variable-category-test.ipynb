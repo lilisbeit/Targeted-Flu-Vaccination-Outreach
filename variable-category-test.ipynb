{
 "cells": [
  {
   "cell_type": "code",
   "execution_count": 1,
   "metadata": {},
   "outputs": [],
   "source": [
    "import pandas as pd\n",
    "import numpy as np\n",
    "\n",
    "import matplotlib.pyplot as plt\n",
    "%matplotlib inline\n",
    "import seaborn as sns\n",
    "\n",
    "from sklearn.preprocessing import StandardScaler, MinMaxScaler\n",
    "from sklearn.model_selection import train_test_split, GridSearchCV\n",
    "from sklearn.linear_model import LogisticRegression\n",
    "from sklearn.tree import DecisionTreeClassifier\n",
    "from sklearn.ensemble import BaggingClassifier, RandomForestClassifier\n",
    "from sklearn.svm import SVC\n",
    "from sklearn.metrics import roc_auc_score, plot_roc_curve, accuracy_score, f1_score\n",
    "\n",
    "from xgboost import XGBClassifier\n",
    "\n",
    "pd.set_option('display.max_rows', 500)\n",
    "pd.set_option('display.max_columns', 500)\n",
    "pd.set_option('display.float_format', lambda x: '%.5f' % x)\n",
    "\n",
    "import utils as ut"
   ]
  },
  {
   "cell_type": "code",
   "execution_count": 2,
   "metadata": {},
   "outputs": [],
   "source": [
    "data = pd.read_csv('data/training_set_features.csv')\n",
    "labels = pd.read_csv('data/training_set_labels.csv')"
   ]
  },
  {
   "cell_type": "code",
   "execution_count": 3,
   "metadata": {},
   "outputs": [],
   "source": [
    "# The features in this dataset\n",
    "# You are provided a dataset with 36 columns. The first column respondent_id is a unique and random identifier. The remaining 35 features are described below.\n",
    "\n",
    "# For all binary variables: 0 = No; 1 = Yes.\n",
    "\n",
    "# h1n1_concern - Level of concern about the H1N1 flu.\n",
    "# 0 = Not at all concerned; 1 = Not very concerned; 2 = Somewhat concerned; 3 = Very concerned.\n",
    "# h1n1_knowledge - Level of knowledge about H1N1 flu.\n",
    "# 0 = No knowledge; 1 = A little knowledge; 2 = A lot of knowledge.\n",
    "# behavioral_antiviral_meds - Has taken antiviral medications. (binary)\n",
    "# behavioral_avoidance - Has avoided close contact with others with flu-like symptoms. (binary)\n",
    "# behavioral_face_mask - Has bought a face mask. (binary)\n",
    "# behavioral_wash_hands - Has frequently washed hands or used hand sanitizer. (binary)\n",
    "# behavioral_large_gatherings - Has reduced time at large gatherings. (binary)\n",
    "# behavioral_outside_home - Has reduced contact with people outside of own household. (binary)\n",
    "# behavioral_touch_face - Has avoided touching eyes, nose, or mouth. (binary)\n",
    "# doctor_recc_h1n1 - H1N1 flu vaccine was recommended by doctor. (binary)\n",
    "# doctor_recc_seasonal - Seasonal flu vaccine was recommended by doctor. (binary)\n",
    "# chronic_med_condition - Has any of the following chronic medical conditions: asthma or an other lung condition, diabetes, a heart condition, a kidney condition, sickle cell anemia or other anemia, a neurological or neuromuscular condition, a liver condition, or a weakened immune system caused by a chronic illness or by medicines taken for a chronic illness. (binary)\n",
    "# child_under_6_months - Has regular close contact with a child under the age of six months. (binary)\n",
    "# health_worker - Is a healthcare worker. (binary)\n",
    "# health_insurance - Has health insurance. (binary)\n",
    "# opinion_h1n1_vacc_effective - Respondent's opinion about H1N1 vaccine effectiveness.\n",
    "# 1 = Not at all effective; 2 = Not very effective; 3 = Don't know; 4 = Somewhat effective; 5 = Very effective.\n",
    "# opinion_h1n1_risk - Respondent's opinion about risk of getting sick with H1N1 flu without vaccine.\n",
    "# 1 = Very Low; 2 = Somewhat low; 3 = Don't know; 4 = Somewhat high; 5 = Very high.\n",
    "# opinion_h1n1_sick_from_vacc - Respondent's worry of getting sick from taking H1N1 vaccine.\n",
    "# 1 = Not at all worried; 2 = Not very worried; 3 = Don't know; 4 = Somewhat worried; 5 = Very worried.\n",
    "# opinion_seas_vacc_effective - Respondent's opinion about seasonal flu vaccine effectiveness.\n",
    "# 1 = Not at all effective; 2 = Not very effective; 3 = Don't know; 4 = Somewhat effective; 5 = Very effective.\n",
    "# opinion_seas_risk - Respondent's opinion about risk of getting sick with seasonal flu without vaccine.\n",
    "# 1 = Very Low; 2 = Somewhat low; 3 = Don't know; 4 = Somewhat high; 5 = Very high.\n",
    "# opinion_seas_sick_from_vacc - Respondent's worry of getting sick from taking seasonal flu vaccine.\n",
    "# 1 = Not at all worried; 2 = Not very worried; 3 = Don't know; 4 = Somewhat worried; 5 = Very worried.\n",
    "# age_group - Age group of respondent.\n",
    "# education - Self-reported education level.\n",
    "# race - Race of respondent.\n",
    "# sex - Sex of respondent.\n",
    "# income_poverty - Household annual income of respondent with respect to 2008 Census poverty thresholds.\n",
    "# marital_status - Marital status of respondent.\n",
    "# rent_or_own - Housing situation of respondent.\n",
    "# employment_status - Employment status of respondent.\n",
    "# hhs_geo_region - Respondent's residence using a 10-region geographic classification defined by the U.S. Dept. of Health and Human Services. Values are represented as short random character strings.\n",
    "# census_msa - Respondent's residence within metropolitan statistical areas (MSA) as defined by the U.S. Census.\n",
    "# household_adults - Number of other adults in household, top-coded to 3.\n",
    "# household_children - Number of children in household, top-coded to 3.\n",
    "# employment_industry - Type of industry respondent is employed in. Values are represented as short random character strings.\n",
    "# employment_occupation - Type of occupation of respondent. Values are represented as short random character strings."
   ]
  },
  {
   "cell_type": "code",
   "execution_count": 4,
   "metadata": {},
   "outputs": [],
   "source": [
    "# train test split\n",
    "# deal with nulls\n",
    "# look for patterns in the nulls\n",
    "# no numeric columns so no need to look for outliers\n",
    "# one hot encode categorical columns\n",
    "# scale\n",
    "# vanilla model\n",
    "# check for multicolinearity (or variables that are not independent)\n",
    "# solve class imbalance problems?? - no need\n",
    "# look for interactions? - marital status and sex, also employment status and sex\n",
    "# logistic regression!\n",
    "# -->can experiment with the regularization parameter (C)\n",
    "# eval measure should be ROC-AUC (for competition anyway)\n",
    "# try a tree!  a forest!\n",
    "# try ensemble method?  XGBoost?\n",
    "# pipeline!\n",
    "# use confusion matrices to evaluate\n",
    "# what can be learned from coefficients\n",
    "\n",
    "# does health worker data match employment data?\n"
   ]
  },
  {
   "cell_type": "code",
   "execution_count": 5,
   "metadata": {},
   "outputs": [],
   "source": [
    "# use k fold cross validation to make sure you're not overfitting to this test set\n",
    "# try all combos for other models, use gridsearch\n",
    "# steal and use Lindsey's evaluate function if you want - Topic 32 Pipelines plus phase 3 wrap up\n",
    "# it includes a confusion matrix\n",
    "# if doing a logreg, look at week 20 optional challenge"
   ]
  },
  {
   "cell_type": "code",
   "execution_count": 6,
   "metadata": {},
   "outputs": [],
   "source": [
    "\n",
    "# look at practice notebook from week 22\n",
    "# shows steps of building a simple model, testing models, iterating, choosing a model\n",
    "# try to do 3 model types\n",
    "\n",
    "# include all detail on \"why did I make that decision?\"  \"why did I do that next step?\"\n",
    "# especially: why did you decide to use this model?\n"
   ]
  },
  {
   "cell_type": "code",
   "execution_count": 7,
   "metadata": {},
   "outputs": [
    {
     "data": {
      "text/html": [
       "<div>\n",
       "<style scoped>\n",
       "    .dataframe tbody tr th:only-of-type {\n",
       "        vertical-align: middle;\n",
       "    }\n",
       "\n",
       "    .dataframe tbody tr th {\n",
       "        vertical-align: top;\n",
       "    }\n",
       "\n",
       "    .dataframe thead th {\n",
       "        text-align: right;\n",
       "    }\n",
       "</style>\n",
       "<table border=\"1\" class=\"dataframe\">\n",
       "  <thead>\n",
       "    <tr style=\"text-align: right;\">\n",
       "      <th></th>\n",
       "      <th>respondent_id</th>\n",
       "      <th>h1n1_vaccine</th>\n",
       "      <th>seasonal_vaccine</th>\n",
       "    </tr>\n",
       "  </thead>\n",
       "  <tbody>\n",
       "    <tr>\n",
       "      <th>0</th>\n",
       "      <td>0</td>\n",
       "      <td>0</td>\n",
       "      <td>0</td>\n",
       "    </tr>\n",
       "    <tr>\n",
       "      <th>1</th>\n",
       "      <td>1</td>\n",
       "      <td>0</td>\n",
       "      <td>1</td>\n",
       "    </tr>\n",
       "    <tr>\n",
       "      <th>2</th>\n",
       "      <td>2</td>\n",
       "      <td>0</td>\n",
       "      <td>0</td>\n",
       "    </tr>\n",
       "    <tr>\n",
       "      <th>3</th>\n",
       "      <td>3</td>\n",
       "      <td>0</td>\n",
       "      <td>1</td>\n",
       "    </tr>\n",
       "    <tr>\n",
       "      <th>4</th>\n",
       "      <td>4</td>\n",
       "      <td>0</td>\n",
       "      <td>0</td>\n",
       "    </tr>\n",
       "    <tr>\n",
       "      <th>...</th>\n",
       "      <td>...</td>\n",
       "      <td>...</td>\n",
       "      <td>...</td>\n",
       "    </tr>\n",
       "    <tr>\n",
       "      <th>26702</th>\n",
       "      <td>26702</td>\n",
       "      <td>0</td>\n",
       "      <td>0</td>\n",
       "    </tr>\n",
       "    <tr>\n",
       "      <th>26703</th>\n",
       "      <td>26703</td>\n",
       "      <td>0</td>\n",
       "      <td>0</td>\n",
       "    </tr>\n",
       "    <tr>\n",
       "      <th>26704</th>\n",
       "      <td>26704</td>\n",
       "      <td>0</td>\n",
       "      <td>1</td>\n",
       "    </tr>\n",
       "    <tr>\n",
       "      <th>26705</th>\n",
       "      <td>26705</td>\n",
       "      <td>0</td>\n",
       "      <td>0</td>\n",
       "    </tr>\n",
       "    <tr>\n",
       "      <th>26706</th>\n",
       "      <td>26706</td>\n",
       "      <td>0</td>\n",
       "      <td>0</td>\n",
       "    </tr>\n",
       "  </tbody>\n",
       "</table>\n",
       "<p>26707 rows × 3 columns</p>\n",
       "</div>"
      ],
      "text/plain": [
       "       respondent_id  h1n1_vaccine  seasonal_vaccine\n",
       "0                  0             0                 0\n",
       "1                  1             0                 1\n",
       "2                  2             0                 0\n",
       "3                  3             0                 1\n",
       "4                  4             0                 0\n",
       "...              ...           ...               ...\n",
       "26702          26702             0                 0\n",
       "26703          26703             0                 0\n",
       "26704          26704             0                 1\n",
       "26705          26705             0                 0\n",
       "26706          26706             0                 0\n",
       "\n",
       "[26707 rows x 3 columns]"
      ]
     },
     "execution_count": 7,
     "metadata": {},
     "output_type": "execute_result"
    }
   ],
   "source": [
    "labels"
   ]
  },
  {
   "cell_type": "code",
   "execution_count": 8,
   "metadata": {},
   "outputs": [],
   "source": [
    "# define X (predictors) and y (target)\n",
    "# keep only predictors which a health management organization would have on file\n",
    "# use seasonal flu vaccine outcome as target (disregard H1N1)\n",
    "\n",
    "X = data.drop(columns=['h1n1_concern',\n",
    "                       'h1n1_knowledge',\n",
    "                       'behavioral_antiviral_meds',\n",
    "                       'behavioral_avoidance',\n",
    "                       'behavioral_face_mask',\n",
    "                       'behavioral_wash_hands',\n",
    "                       'behavioral_large_gatherings',\n",
    "                       'behavioral_outside_home',\n",
    "                       'behavioral_touch_face',\n",
    "                       'doctor_recc_h1n1',\n",
    "                       'child_under_6_months',\n",
    "                       'opinion_h1n1_vacc_effective',\n",
    "                       'opinion_h1n1_risk',\n",
    "                       'opinion_h1n1_sick_from_vacc',\n",
    "                       'opinion_h1n1_sick_from_vacc',\n",
    "                       'opinion_seas_vacc_effective',\n",
    "                       'opinion_seas_risk',\n",
    "                       'opinion_seas_sick_from_vacc',\n",
    "                       'education',\n",
    "                       'income_poverty',\n",
    "                       'rent_or_own',\n",
    "                       'household_adults',\n",
    "                       'household_children'])\n",
    "\n",
    "y = labels['seasonal_vaccine']"
   ]
  },
  {
   "cell_type": "code",
   "execution_count": 9,
   "metadata": {},
   "outputs": [
    {
     "data": {
      "text/html": [
       "<div>\n",
       "<style scoped>\n",
       "    .dataframe tbody tr th:only-of-type {\n",
       "        vertical-align: middle;\n",
       "    }\n",
       "\n",
       "    .dataframe tbody tr th {\n",
       "        vertical-align: top;\n",
       "    }\n",
       "\n",
       "    .dataframe thead th {\n",
       "        text-align: right;\n",
       "    }\n",
       "</style>\n",
       "<table border=\"1\" class=\"dataframe\">\n",
       "  <thead>\n",
       "    <tr style=\"text-align: right;\">\n",
       "      <th></th>\n",
       "      <th>respondent_id</th>\n",
       "      <th>doctor_recc_seasonal</th>\n",
       "      <th>chronic_med_condition</th>\n",
       "      <th>health_worker</th>\n",
       "      <th>health_insurance</th>\n",
       "      <th>age_group</th>\n",
       "      <th>race</th>\n",
       "      <th>sex</th>\n",
       "      <th>marital_status</th>\n",
       "      <th>employment_status</th>\n",
       "      <th>hhs_geo_region</th>\n",
       "      <th>census_msa</th>\n",
       "      <th>employment_industry</th>\n",
       "      <th>employment_occupation</th>\n",
       "    </tr>\n",
       "  </thead>\n",
       "  <tbody>\n",
       "    <tr>\n",
       "      <th>0</th>\n",
       "      <td>0</td>\n",
       "      <td>0.00000</td>\n",
       "      <td>0.00000</td>\n",
       "      <td>0.00000</td>\n",
       "      <td>1.00000</td>\n",
       "      <td>55 - 64 Years</td>\n",
       "      <td>White</td>\n",
       "      <td>Female</td>\n",
       "      <td>Not Married</td>\n",
       "      <td>Not in Labor Force</td>\n",
       "      <td>oxchjgsf</td>\n",
       "      <td>Non-MSA</td>\n",
       "      <td>NaN</td>\n",
       "      <td>NaN</td>\n",
       "    </tr>\n",
       "    <tr>\n",
       "      <th>1</th>\n",
       "      <td>1</td>\n",
       "      <td>0.00000</td>\n",
       "      <td>0.00000</td>\n",
       "      <td>0.00000</td>\n",
       "      <td>1.00000</td>\n",
       "      <td>35 - 44 Years</td>\n",
       "      <td>White</td>\n",
       "      <td>Male</td>\n",
       "      <td>Not Married</td>\n",
       "      <td>Employed</td>\n",
       "      <td>bhuqouqj</td>\n",
       "      <td>MSA, Not Principle  City</td>\n",
       "      <td>pxcmvdjn</td>\n",
       "      <td>xgwztkwe</td>\n",
       "    </tr>\n",
       "    <tr>\n",
       "      <th>2</th>\n",
       "      <td>2</td>\n",
       "      <td>nan</td>\n",
       "      <td>1.00000</td>\n",
       "      <td>0.00000</td>\n",
       "      <td>nan</td>\n",
       "      <td>18 - 34 Years</td>\n",
       "      <td>White</td>\n",
       "      <td>Male</td>\n",
       "      <td>Not Married</td>\n",
       "      <td>Employed</td>\n",
       "      <td>qufhixun</td>\n",
       "      <td>MSA, Not Principle  City</td>\n",
       "      <td>rucpziij</td>\n",
       "      <td>xtkaffoo</td>\n",
       "    </tr>\n",
       "    <tr>\n",
       "      <th>3</th>\n",
       "      <td>3</td>\n",
       "      <td>1.00000</td>\n",
       "      <td>1.00000</td>\n",
       "      <td>0.00000</td>\n",
       "      <td>nan</td>\n",
       "      <td>65+ Years</td>\n",
       "      <td>White</td>\n",
       "      <td>Female</td>\n",
       "      <td>Not Married</td>\n",
       "      <td>Not in Labor Force</td>\n",
       "      <td>lrircsnp</td>\n",
       "      <td>MSA, Principle City</td>\n",
       "      <td>NaN</td>\n",
       "      <td>NaN</td>\n",
       "    </tr>\n",
       "    <tr>\n",
       "      <th>4</th>\n",
       "      <td>4</td>\n",
       "      <td>0.00000</td>\n",
       "      <td>0.00000</td>\n",
       "      <td>0.00000</td>\n",
       "      <td>nan</td>\n",
       "      <td>45 - 54 Years</td>\n",
       "      <td>White</td>\n",
       "      <td>Female</td>\n",
       "      <td>Married</td>\n",
       "      <td>Employed</td>\n",
       "      <td>qufhixun</td>\n",
       "      <td>MSA, Not Principle  City</td>\n",
       "      <td>wxleyezf</td>\n",
       "      <td>emcorrxb</td>\n",
       "    </tr>\n",
       "    <tr>\n",
       "      <th>...</th>\n",
       "      <td>...</td>\n",
       "      <td>...</td>\n",
       "      <td>...</td>\n",
       "      <td>...</td>\n",
       "      <td>...</td>\n",
       "      <td>...</td>\n",
       "      <td>...</td>\n",
       "      <td>...</td>\n",
       "      <td>...</td>\n",
       "      <td>...</td>\n",
       "      <td>...</td>\n",
       "      <td>...</td>\n",
       "      <td>...</td>\n",
       "      <td>...</td>\n",
       "    </tr>\n",
       "    <tr>\n",
       "      <th>26702</th>\n",
       "      <td>26702</td>\n",
       "      <td>0.00000</td>\n",
       "      <td>0.00000</td>\n",
       "      <td>0.00000</td>\n",
       "      <td>nan</td>\n",
       "      <td>65+ Years</td>\n",
       "      <td>White</td>\n",
       "      <td>Female</td>\n",
       "      <td>Not Married</td>\n",
       "      <td>Not in Labor Force</td>\n",
       "      <td>qufhixun</td>\n",
       "      <td>Non-MSA</td>\n",
       "      <td>NaN</td>\n",
       "      <td>NaN</td>\n",
       "    </tr>\n",
       "    <tr>\n",
       "      <th>26703</th>\n",
       "      <td>26703</td>\n",
       "      <td>1.00000</td>\n",
       "      <td>0.00000</td>\n",
       "      <td>1.00000</td>\n",
       "      <td>1.00000</td>\n",
       "      <td>18 - 34 Years</td>\n",
       "      <td>White</td>\n",
       "      <td>Male</td>\n",
       "      <td>Not Married</td>\n",
       "      <td>Employed</td>\n",
       "      <td>lzgpxyit</td>\n",
       "      <td>MSA, Principle City</td>\n",
       "      <td>fcxhlnwr</td>\n",
       "      <td>cmhcxjea</td>\n",
       "    </tr>\n",
       "    <tr>\n",
       "      <th>26704</th>\n",
       "      <td>26704</td>\n",
       "      <td>0.00000</td>\n",
       "      <td>0.00000</td>\n",
       "      <td>0.00000</td>\n",
       "      <td>nan</td>\n",
       "      <td>55 - 64 Years</td>\n",
       "      <td>White</td>\n",
       "      <td>Female</td>\n",
       "      <td>Not Married</td>\n",
       "      <td>NaN</td>\n",
       "      <td>lzgpxyit</td>\n",
       "      <td>MSA, Not Principle  City</td>\n",
       "      <td>NaN</td>\n",
       "      <td>NaN</td>\n",
       "    </tr>\n",
       "    <tr>\n",
       "      <th>26705</th>\n",
       "      <td>26705</td>\n",
       "      <td>0.00000</td>\n",
       "      <td>0.00000</td>\n",
       "      <td>0.00000</td>\n",
       "      <td>0.00000</td>\n",
       "      <td>18 - 34 Years</td>\n",
       "      <td>Hispanic</td>\n",
       "      <td>Female</td>\n",
       "      <td>Married</td>\n",
       "      <td>Employed</td>\n",
       "      <td>lrircsnp</td>\n",
       "      <td>Non-MSA</td>\n",
       "      <td>fcxhlnwr</td>\n",
       "      <td>haliazsg</td>\n",
       "    </tr>\n",
       "    <tr>\n",
       "      <th>26706</th>\n",
       "      <td>26706</td>\n",
       "      <td>0.00000</td>\n",
       "      <td>0.00000</td>\n",
       "      <td>0.00000</td>\n",
       "      <td>1.00000</td>\n",
       "      <td>65+ Years</td>\n",
       "      <td>White</td>\n",
       "      <td>Male</td>\n",
       "      <td>Married</td>\n",
       "      <td>Not in Labor Force</td>\n",
       "      <td>mlyzmhmf</td>\n",
       "      <td>MSA, Principle City</td>\n",
       "      <td>NaN</td>\n",
       "      <td>NaN</td>\n",
       "    </tr>\n",
       "  </tbody>\n",
       "</table>\n",
       "<p>26707 rows × 14 columns</p>\n",
       "</div>"
      ],
      "text/plain": [
       "       respondent_id  doctor_recc_seasonal  chronic_med_condition  \\\n",
       "0                  0               0.00000                0.00000   \n",
       "1                  1               0.00000                0.00000   \n",
       "2                  2                   nan                1.00000   \n",
       "3                  3               1.00000                1.00000   \n",
       "4                  4               0.00000                0.00000   \n",
       "...              ...                   ...                    ...   \n",
       "26702          26702               0.00000                0.00000   \n",
       "26703          26703               1.00000                0.00000   \n",
       "26704          26704               0.00000                0.00000   \n",
       "26705          26705               0.00000                0.00000   \n",
       "26706          26706               0.00000                0.00000   \n",
       "\n",
       "       health_worker  health_insurance      age_group      race     sex  \\\n",
       "0            0.00000           1.00000  55 - 64 Years     White  Female   \n",
       "1            0.00000           1.00000  35 - 44 Years     White    Male   \n",
       "2            0.00000               nan  18 - 34 Years     White    Male   \n",
       "3            0.00000               nan      65+ Years     White  Female   \n",
       "4            0.00000               nan  45 - 54 Years     White  Female   \n",
       "...              ...               ...            ...       ...     ...   \n",
       "26702        0.00000               nan      65+ Years     White  Female   \n",
       "26703        1.00000           1.00000  18 - 34 Years     White    Male   \n",
       "26704        0.00000               nan  55 - 64 Years     White  Female   \n",
       "26705        0.00000           0.00000  18 - 34 Years  Hispanic  Female   \n",
       "26706        0.00000           1.00000      65+ Years     White    Male   \n",
       "\n",
       "      marital_status   employment_status hhs_geo_region  \\\n",
       "0        Not Married  Not in Labor Force       oxchjgsf   \n",
       "1        Not Married            Employed       bhuqouqj   \n",
       "2        Not Married            Employed       qufhixun   \n",
       "3        Not Married  Not in Labor Force       lrircsnp   \n",
       "4            Married            Employed       qufhixun   \n",
       "...              ...                 ...            ...   \n",
       "26702    Not Married  Not in Labor Force       qufhixun   \n",
       "26703    Not Married            Employed       lzgpxyit   \n",
       "26704    Not Married                 NaN       lzgpxyit   \n",
       "26705        Married            Employed       lrircsnp   \n",
       "26706        Married  Not in Labor Force       mlyzmhmf   \n",
       "\n",
       "                     census_msa employment_industry employment_occupation  \n",
       "0                       Non-MSA                 NaN                   NaN  \n",
       "1      MSA, Not Principle  City            pxcmvdjn              xgwztkwe  \n",
       "2      MSA, Not Principle  City            rucpziij              xtkaffoo  \n",
       "3           MSA, Principle City                 NaN                   NaN  \n",
       "4      MSA, Not Principle  City            wxleyezf              emcorrxb  \n",
       "...                         ...                 ...                   ...  \n",
       "26702                   Non-MSA                 NaN                   NaN  \n",
       "26703       MSA, Principle City            fcxhlnwr              cmhcxjea  \n",
       "26704  MSA, Not Principle  City                 NaN                   NaN  \n",
       "26705                   Non-MSA            fcxhlnwr              haliazsg  \n",
       "26706       MSA, Principle City                 NaN                   NaN  \n",
       "\n",
       "[26707 rows x 14 columns]"
      ]
     },
     "execution_count": 9,
     "metadata": {},
     "output_type": "execute_result"
    }
   ],
   "source": [
    "X"
   ]
  },
  {
   "cell_type": "code",
   "execution_count": 10,
   "metadata": {
    "scrolled": true
   },
   "outputs": [
    {
     "data": {
      "text/html": [
       "<div>\n",
       "<style scoped>\n",
       "    .dataframe tbody tr th:only-of-type {\n",
       "        vertical-align: middle;\n",
       "    }\n",
       "\n",
       "    .dataframe tbody tr th {\n",
       "        vertical-align: top;\n",
       "    }\n",
       "\n",
       "    .dataframe thead th {\n",
       "        text-align: right;\n",
       "    }\n",
       "</style>\n",
       "<table border=\"1\" class=\"dataframe\">\n",
       "  <thead>\n",
       "    <tr style=\"text-align: right;\">\n",
       "      <th></th>\n",
       "      <th>doctor_recc_seasonal</th>\n",
       "      <th>chronic_med_condition</th>\n",
       "      <th>health_worker</th>\n",
       "      <th>health_insurance</th>\n",
       "      <th>age_group</th>\n",
       "      <th>race</th>\n",
       "      <th>sex</th>\n",
       "      <th>marital_status</th>\n",
       "      <th>employment_status</th>\n",
       "      <th>hhs_geo_region</th>\n",
       "      <th>census_msa</th>\n",
       "      <th>employment_industry</th>\n",
       "      <th>employment_occupation</th>\n",
       "    </tr>\n",
       "  </thead>\n",
       "  <tbody>\n",
       "    <tr>\n",
       "      <th>0</th>\n",
       "      <td>0.00000</td>\n",
       "      <td>0.00000</td>\n",
       "      <td>0.00000</td>\n",
       "      <td>1.00000</td>\n",
       "      <td>55 - 64 Years</td>\n",
       "      <td>White</td>\n",
       "      <td>Female</td>\n",
       "      <td>Not Married</td>\n",
       "      <td>Not in Labor Force</td>\n",
       "      <td>oxchjgsf</td>\n",
       "      <td>Non-MSA</td>\n",
       "      <td>NaN</td>\n",
       "      <td>NaN</td>\n",
       "    </tr>\n",
       "    <tr>\n",
       "      <th>1</th>\n",
       "      <td>0.00000</td>\n",
       "      <td>0.00000</td>\n",
       "      <td>0.00000</td>\n",
       "      <td>1.00000</td>\n",
       "      <td>35 - 44 Years</td>\n",
       "      <td>White</td>\n",
       "      <td>Male</td>\n",
       "      <td>Not Married</td>\n",
       "      <td>Employed</td>\n",
       "      <td>bhuqouqj</td>\n",
       "      <td>MSA, Not Principle  City</td>\n",
       "      <td>pxcmvdjn</td>\n",
       "      <td>xgwztkwe</td>\n",
       "    </tr>\n",
       "    <tr>\n",
       "      <th>2</th>\n",
       "      <td>nan</td>\n",
       "      <td>1.00000</td>\n",
       "      <td>0.00000</td>\n",
       "      <td>nan</td>\n",
       "      <td>18 - 34 Years</td>\n",
       "      <td>White</td>\n",
       "      <td>Male</td>\n",
       "      <td>Not Married</td>\n",
       "      <td>Employed</td>\n",
       "      <td>qufhixun</td>\n",
       "      <td>MSA, Not Principle  City</td>\n",
       "      <td>rucpziij</td>\n",
       "      <td>xtkaffoo</td>\n",
       "    </tr>\n",
       "    <tr>\n",
       "      <th>3</th>\n",
       "      <td>1.00000</td>\n",
       "      <td>1.00000</td>\n",
       "      <td>0.00000</td>\n",
       "      <td>nan</td>\n",
       "      <td>65+ Years</td>\n",
       "      <td>White</td>\n",
       "      <td>Female</td>\n",
       "      <td>Not Married</td>\n",
       "      <td>Not in Labor Force</td>\n",
       "      <td>lrircsnp</td>\n",
       "      <td>MSA, Principle City</td>\n",
       "      <td>NaN</td>\n",
       "      <td>NaN</td>\n",
       "    </tr>\n",
       "    <tr>\n",
       "      <th>4</th>\n",
       "      <td>0.00000</td>\n",
       "      <td>0.00000</td>\n",
       "      <td>0.00000</td>\n",
       "      <td>nan</td>\n",
       "      <td>45 - 54 Years</td>\n",
       "      <td>White</td>\n",
       "      <td>Female</td>\n",
       "      <td>Married</td>\n",
       "      <td>Employed</td>\n",
       "      <td>qufhixun</td>\n",
       "      <td>MSA, Not Principle  City</td>\n",
       "      <td>wxleyezf</td>\n",
       "      <td>emcorrxb</td>\n",
       "    </tr>\n",
       "    <tr>\n",
       "      <th>...</th>\n",
       "      <td>...</td>\n",
       "      <td>...</td>\n",
       "      <td>...</td>\n",
       "      <td>...</td>\n",
       "      <td>...</td>\n",
       "      <td>...</td>\n",
       "      <td>...</td>\n",
       "      <td>...</td>\n",
       "      <td>...</td>\n",
       "      <td>...</td>\n",
       "      <td>...</td>\n",
       "      <td>...</td>\n",
       "      <td>...</td>\n",
       "    </tr>\n",
       "    <tr>\n",
       "      <th>26702</th>\n",
       "      <td>0.00000</td>\n",
       "      <td>0.00000</td>\n",
       "      <td>0.00000</td>\n",
       "      <td>nan</td>\n",
       "      <td>65+ Years</td>\n",
       "      <td>White</td>\n",
       "      <td>Female</td>\n",
       "      <td>Not Married</td>\n",
       "      <td>Not in Labor Force</td>\n",
       "      <td>qufhixun</td>\n",
       "      <td>Non-MSA</td>\n",
       "      <td>NaN</td>\n",
       "      <td>NaN</td>\n",
       "    </tr>\n",
       "    <tr>\n",
       "      <th>26703</th>\n",
       "      <td>1.00000</td>\n",
       "      <td>0.00000</td>\n",
       "      <td>1.00000</td>\n",
       "      <td>1.00000</td>\n",
       "      <td>18 - 34 Years</td>\n",
       "      <td>White</td>\n",
       "      <td>Male</td>\n",
       "      <td>Not Married</td>\n",
       "      <td>Employed</td>\n",
       "      <td>lzgpxyit</td>\n",
       "      <td>MSA, Principle City</td>\n",
       "      <td>fcxhlnwr</td>\n",
       "      <td>cmhcxjea</td>\n",
       "    </tr>\n",
       "    <tr>\n",
       "      <th>26704</th>\n",
       "      <td>0.00000</td>\n",
       "      <td>0.00000</td>\n",
       "      <td>0.00000</td>\n",
       "      <td>nan</td>\n",
       "      <td>55 - 64 Years</td>\n",
       "      <td>White</td>\n",
       "      <td>Female</td>\n",
       "      <td>Not Married</td>\n",
       "      <td>NaN</td>\n",
       "      <td>lzgpxyit</td>\n",
       "      <td>MSA, Not Principle  City</td>\n",
       "      <td>NaN</td>\n",
       "      <td>NaN</td>\n",
       "    </tr>\n",
       "    <tr>\n",
       "      <th>26705</th>\n",
       "      <td>0.00000</td>\n",
       "      <td>0.00000</td>\n",
       "      <td>0.00000</td>\n",
       "      <td>0.00000</td>\n",
       "      <td>18 - 34 Years</td>\n",
       "      <td>Hispanic</td>\n",
       "      <td>Female</td>\n",
       "      <td>Married</td>\n",
       "      <td>Employed</td>\n",
       "      <td>lrircsnp</td>\n",
       "      <td>Non-MSA</td>\n",
       "      <td>fcxhlnwr</td>\n",
       "      <td>haliazsg</td>\n",
       "    </tr>\n",
       "    <tr>\n",
       "      <th>26706</th>\n",
       "      <td>0.00000</td>\n",
       "      <td>0.00000</td>\n",
       "      <td>0.00000</td>\n",
       "      <td>1.00000</td>\n",
       "      <td>65+ Years</td>\n",
       "      <td>White</td>\n",
       "      <td>Male</td>\n",
       "      <td>Married</td>\n",
       "      <td>Not in Labor Force</td>\n",
       "      <td>mlyzmhmf</td>\n",
       "      <td>MSA, Principle City</td>\n",
       "      <td>NaN</td>\n",
       "      <td>NaN</td>\n",
       "    </tr>\n",
       "  </tbody>\n",
       "</table>\n",
       "<p>26707 rows × 13 columns</p>\n",
       "</div>"
      ],
      "text/plain": [
       "       doctor_recc_seasonal  chronic_med_condition  health_worker  \\\n",
       "0                   0.00000                0.00000        0.00000   \n",
       "1                   0.00000                0.00000        0.00000   \n",
       "2                       nan                1.00000        0.00000   \n",
       "3                   1.00000                1.00000        0.00000   \n",
       "4                   0.00000                0.00000        0.00000   \n",
       "...                     ...                    ...            ...   \n",
       "26702               0.00000                0.00000        0.00000   \n",
       "26703               1.00000                0.00000        1.00000   \n",
       "26704               0.00000                0.00000        0.00000   \n",
       "26705               0.00000                0.00000        0.00000   \n",
       "26706               0.00000                0.00000        0.00000   \n",
       "\n",
       "       health_insurance      age_group      race     sex marital_status  \\\n",
       "0               1.00000  55 - 64 Years     White  Female    Not Married   \n",
       "1               1.00000  35 - 44 Years     White    Male    Not Married   \n",
       "2                   nan  18 - 34 Years     White    Male    Not Married   \n",
       "3                   nan      65+ Years     White  Female    Not Married   \n",
       "4                   nan  45 - 54 Years     White  Female        Married   \n",
       "...                 ...            ...       ...     ...            ...   \n",
       "26702               nan      65+ Years     White  Female    Not Married   \n",
       "26703           1.00000  18 - 34 Years     White    Male    Not Married   \n",
       "26704               nan  55 - 64 Years     White  Female    Not Married   \n",
       "26705           0.00000  18 - 34 Years  Hispanic  Female        Married   \n",
       "26706           1.00000      65+ Years     White    Male        Married   \n",
       "\n",
       "        employment_status hhs_geo_region                census_msa  \\\n",
       "0      Not in Labor Force       oxchjgsf                   Non-MSA   \n",
       "1                Employed       bhuqouqj  MSA, Not Principle  City   \n",
       "2                Employed       qufhixun  MSA, Not Principle  City   \n",
       "3      Not in Labor Force       lrircsnp       MSA, Principle City   \n",
       "4                Employed       qufhixun  MSA, Not Principle  City   \n",
       "...                   ...            ...                       ...   \n",
       "26702  Not in Labor Force       qufhixun                   Non-MSA   \n",
       "26703            Employed       lzgpxyit       MSA, Principle City   \n",
       "26704                 NaN       lzgpxyit  MSA, Not Principle  City   \n",
       "26705            Employed       lrircsnp                   Non-MSA   \n",
       "26706  Not in Labor Force       mlyzmhmf       MSA, Principle City   \n",
       "\n",
       "      employment_industry employment_occupation  \n",
       "0                     NaN                   NaN  \n",
       "1                pxcmvdjn              xgwztkwe  \n",
       "2                rucpziij              xtkaffoo  \n",
       "3                     NaN                   NaN  \n",
       "4                wxleyezf              emcorrxb  \n",
       "...                   ...                   ...  \n",
       "26702                 NaN                   NaN  \n",
       "26703            fcxhlnwr              cmhcxjea  \n",
       "26704                 NaN                   NaN  \n",
       "26705            fcxhlnwr              haliazsg  \n",
       "26706                 NaN                   NaN  \n",
       "\n",
       "[26707 rows x 13 columns]"
      ]
     },
     "execution_count": 10,
     "metadata": {},
     "output_type": "execute_result"
    }
   ],
   "source": [
    "# eliminate id column, which is the same as index number\n",
    "\n",
    "X.drop(columns='respondent_id', inplace=True)\n",
    "X"
   ]
  },
  {
   "cell_type": "code",
   "execution_count": 11,
   "metadata": {},
   "outputs": [],
   "source": [
    "# train test split\n",
    "\n",
    "X_train, X_test, y_train, y_test = train_test_split(X, y, test_size=0.25)"
   ]
  },
  {
   "cell_type": "code",
   "execution_count": 12,
   "metadata": {},
   "outputs": [
    {
     "data": {
      "text/plain": [
       "0    10708\n",
       "1     9322\n",
       "Name: seasonal_vaccine, dtype: int64"
      ]
     },
     "execution_count": 12,
     "metadata": {},
     "output_type": "execute_result"
    }
   ],
   "source": [
    "# no class imbalance in target\n",
    "\n",
    "y_train.value_counts()"
   ]
  },
  {
   "cell_type": "code",
   "execution_count": 13,
   "metadata": {},
   "outputs": [
    {
     "name": "stdout",
     "output_type": "stream",
     "text": [
      "<class 'pandas.core.frame.DataFrame'>\n",
      "Int64Index: 20030 entries, 1850 to 26667\n",
      "Data columns (total 13 columns):\n",
      "doctor_recc_seasonal     18419 non-null float64\n",
      "chronic_med_condition    19324 non-null float64\n",
      "health_worker            19441 non-null float64\n",
      "health_insurance         10872 non-null float64\n",
      "age_group                20030 non-null object\n",
      "race                     20030 non-null object\n",
      "sex                      20030 non-null object\n",
      "marital_status           18974 non-null object\n",
      "employment_status        18936 non-null object\n",
      "hhs_geo_region           20030 non-null object\n",
      "census_msa               20030 non-null object\n",
      "employment_industry      9982 non-null object\n",
      "employment_occupation    9863 non-null object\n",
      "dtypes: float64(4), object(9)\n",
      "memory usage: 2.1+ MB\n"
     ]
    }
   ],
   "source": [
    "# explore variables\n",
    "\n",
    "X_train\n",
    "X_train.describe()\n",
    "X_train.info()\n",
    "\n",
    "# many nulls\n",
    "# many categorical columns --> need to one hot encode"
   ]
  },
  {
   "cell_type": "code",
   "execution_count": 14,
   "metadata": {},
   "outputs": [
    {
     "data": {
      "text/plain": [
       "doctor_recc_seasonal     8.04000\n",
       "chronic_med_condition    3.52000\n",
       "health_worker            2.94000\n",
       "health_insurance        45.72000\n",
       "age_group                0.00000\n",
       "race                     0.00000\n",
       "sex                      0.00000\n",
       "marital_status           5.27000\n",
       "employment_status        5.46000\n",
       "hhs_geo_region           0.00000\n",
       "census_msa               0.00000\n",
       "employment_industry     50.16000\n",
       "employment_occupation   50.76000\n",
       "dtype: float64"
      ]
     },
     "execution_count": 14,
     "metadata": {},
     "output_type": "execute_result"
    }
   ],
   "source": [
    "# show per cent nulls by column\n",
    "# about half of data is missing for health_insurance, employment_industry, employment_occupation\n",
    "\n",
    "round((X_train.isna().sum()*100/len(X_train)),2)"
   ]
  },
  {
   "cell_type": "code",
   "execution_count": 15,
   "metadata": {
    "scrolled": true
   },
   "outputs": [
    {
     "name": "stdout",
     "output_type": "stream",
     "text": [
      "1.00000    9549\n",
      "0.00000    1323\n",
      "Name: health_insurance, dtype: int64\n",
      "fcxhlnwr    1797\n",
      "wxleyezf    1356\n",
      "ldnlellj     955\n",
      "pxcmvdjn     774\n",
      "atmlpfrs     697\n",
      "arjwrbjb     644\n",
      "xicduogh     626\n",
      "mfikgejo     465\n",
      "rucpziij     401\n",
      "vjjrobsf     385\n",
      "xqicxuve     380\n",
      "saaquncn     249\n",
      "cfqqtusy     243\n",
      "nduyfdeo     213\n",
      "mcubkhph     198\n",
      "wlfvacwt     164\n",
      "dotnnunm     159\n",
      "haxffmxo     106\n",
      "msuufmds      92\n",
      "phxvnwax      69\n",
      "qnlwzans       9\n",
      "Name: employment_industry, dtype: int64\n",
      "xtkaffoo    1356\n",
      "mxkfnird    1111\n",
      "emcorrxb     952\n",
      "cmhcxjea     905\n",
      "xgwztkwe     795\n",
      "hfxkjkmi     578\n",
      "qxajmpny     400\n",
      "xqwwgdyp     369\n",
      "kldqjyjy     359\n",
      "uqqtjvyb     341\n",
      "tfqavkke     297\n",
      "ukymxvdu     286\n",
      "ccgxvspp     270\n",
      "vlluhbov     256\n",
      "oijqvulv     253\n",
      "bxpfxfdn     246\n",
      "haliazsg     220\n",
      "rcertsgn     201\n",
      "xzmlyyjv     192\n",
      "dlvbwzss     154\n",
      "hodpvpew     150\n",
      "dcjcmpih     106\n",
      "pvmttkik      66\n",
      "Name: employment_occupation, dtype: int64\n"
     ]
    }
   ],
   "source": [
    "# look closer at three columns with high null percentages - see if there is an obvious choice to impute\n",
    "\n",
    "for c in X_train[['health_insurance','employment_industry','employment_occupation']]:\n",
    "    print(X_train[c].value_counts())\n",
    "    \n",
    "# most ppl have health insurance, I can create a new column to indicate which rows are missing this info\n",
    "# employment industry and occupation - when encoded, nulls will be ignored"
   ]
  },
  {
   "cell_type": "code",
   "execution_count": 16,
   "metadata": {
    "scrolled": true
   },
   "outputs": [
    {
     "name": "stdout",
     "output_type": "stream",
     "text": [
      "0.00000    12344\n",
      "1.00000     6075\n",
      "Name: doctor_recc_seasonal, dtype: int64\n",
      "0.00000    13882\n",
      "1.00000     5442\n",
      "Name: chronic_med_condition, dtype: int64\n",
      "0.00000    17288\n",
      "1.00000     2153\n",
      "Name: health_worker, dtype: int64\n",
      "1.00000    9549\n",
      "0.00000    1323\n",
      "Name: health_insurance, dtype: int64\n",
      "65+ Years        5146\n",
      "55 - 64 Years    4169\n",
      "45 - 54 Years    3944\n",
      "18 - 34 Years    3860\n",
      "35 - 44 Years    2911\n",
      "Name: age_group, dtype: int64\n",
      "White                15875\n",
      "Black                 1609\n",
      "Hispanic              1334\n",
      "Other or Multiple     1212\n",
      "Name: race, dtype: int64\n",
      "Female    11909\n",
      "Male       8121\n",
      "Name: sex, dtype: int64\n",
      "Married        10164\n",
      "Not Married     8810\n",
      "Name: marital_status, dtype: int64\n",
      "Employed              10112\n",
      "Not in Labor Force     7715\n",
      "Unemployed             1109\n",
      "Name: employment_status, dtype: int64\n",
      "lzgpxyit    3262\n",
      "fpwskwrf    2426\n",
      "qufhixun    2331\n",
      "bhuqouqj    2133\n",
      "kbazzjca    2129\n",
      "oxchjgsf    2115\n",
      "mlyzmhmf    1706\n",
      "lrircsnp    1542\n",
      "atmpeygn    1518\n",
      "dqpwygqj     868\n",
      "Name: hhs_geo_region, dtype: int64\n",
      "MSA, Not Principle  City    8768\n",
      "MSA, Principle City         5874\n",
      "Non-MSA                     5388\n",
      "Name: census_msa, dtype: int64\n",
      "fcxhlnwr    1797\n",
      "wxleyezf    1356\n",
      "ldnlellj     955\n",
      "pxcmvdjn     774\n",
      "atmlpfrs     697\n",
      "arjwrbjb     644\n",
      "xicduogh     626\n",
      "mfikgejo     465\n",
      "rucpziij     401\n",
      "vjjrobsf     385\n",
      "xqicxuve     380\n",
      "saaquncn     249\n",
      "cfqqtusy     243\n",
      "nduyfdeo     213\n",
      "mcubkhph     198\n",
      "wlfvacwt     164\n",
      "dotnnunm     159\n",
      "haxffmxo     106\n",
      "msuufmds      92\n",
      "phxvnwax      69\n",
      "qnlwzans       9\n",
      "Name: employment_industry, dtype: int64\n",
      "xtkaffoo    1356\n",
      "mxkfnird    1111\n",
      "emcorrxb     952\n",
      "cmhcxjea     905\n",
      "xgwztkwe     795\n",
      "hfxkjkmi     578\n",
      "qxajmpny     400\n",
      "xqwwgdyp     369\n",
      "kldqjyjy     359\n",
      "uqqtjvyb     341\n",
      "tfqavkke     297\n",
      "ukymxvdu     286\n",
      "ccgxvspp     270\n",
      "vlluhbov     256\n",
      "oijqvulv     253\n",
      "bxpfxfdn     246\n",
      "haliazsg     220\n",
      "rcertsgn     201\n",
      "xzmlyyjv     192\n",
      "dlvbwzss     154\n",
      "hodpvpew     150\n",
      "dcjcmpih     106\n",
      "pvmttkik      66\n",
      "Name: employment_occupation, dtype: int64\n"
     ]
    }
   ],
   "source": [
    "# check all value counts\n",
    "\n",
    "for c in X_train.columns:\n",
    "    print(X_train[c].value_counts())"
   ]
  },
  {
   "cell_type": "code",
   "execution_count": 17,
   "metadata": {},
   "outputs": [],
   "source": [
    "# create new df X_train_plot to contain a numeric age column for plotting\n",
    "\n",
    "X_train_plot=X_train.copy()\n",
    "X_train_plot['age_group_num'] = X_train_plot['age_group'].apply(lambda x:1 if (x == '18 - 34 Years')\n",
    "                                                        else 2 if (x == '35 - 44 Years')\n",
    "                                                        else 3 if (x == '45 - 54 Years')\n",
    "                                                        else 4 if (x == '55 - 64 Years')\n",
    "                                                        else 5)"
   ]
  },
  {
   "cell_type": "code",
   "execution_count": 18,
   "metadata": {
    "scrolled": true
   },
   "outputs": [
    {
     "data": {
      "text/html": [
       "<div>\n",
       "<style scoped>\n",
       "    .dataframe tbody tr th:only-of-type {\n",
       "        vertical-align: middle;\n",
       "    }\n",
       "\n",
       "    .dataframe tbody tr th {\n",
       "        vertical-align: top;\n",
       "    }\n",
       "\n",
       "    .dataframe thead th {\n",
       "        text-align: right;\n",
       "    }\n",
       "</style>\n",
       "<table border=\"1\" class=\"dataframe\">\n",
       "  <thead>\n",
       "    <tr style=\"text-align: right;\">\n",
       "      <th></th>\n",
       "      <th>doctor_recc_seasonal</th>\n",
       "      <th>chronic_med_condition</th>\n",
       "      <th>health_worker</th>\n",
       "      <th>health_insurance</th>\n",
       "      <th>race</th>\n",
       "      <th>sex</th>\n",
       "      <th>marital_status</th>\n",
       "      <th>employment_status</th>\n",
       "      <th>hhs_geo_region</th>\n",
       "      <th>census_msa</th>\n",
       "      <th>employment_industry</th>\n",
       "      <th>employment_occupation</th>\n",
       "      <th>age_group_num</th>\n",
       "      <th>seasonal_vaccine</th>\n",
       "    </tr>\n",
       "  </thead>\n",
       "  <tbody>\n",
       "    <tr>\n",
       "      <th>1850</th>\n",
       "      <td>0.00000</td>\n",
       "      <td>0.00000</td>\n",
       "      <td>0.00000</td>\n",
       "      <td>nan</td>\n",
       "      <td>White</td>\n",
       "      <td>Male</td>\n",
       "      <td>Married</td>\n",
       "      <td>Employed</td>\n",
       "      <td>lzgpxyit</td>\n",
       "      <td>MSA, Not Principle  City</td>\n",
       "      <td>wxleyezf</td>\n",
       "      <td>emcorrxb</td>\n",
       "      <td>1</td>\n",
       "      <td>0</td>\n",
       "    </tr>\n",
       "    <tr>\n",
       "      <th>16644</th>\n",
       "      <td>1.00000</td>\n",
       "      <td>1.00000</td>\n",
       "      <td>0.00000</td>\n",
       "      <td>nan</td>\n",
       "      <td>White</td>\n",
       "      <td>Female</td>\n",
       "      <td>Married</td>\n",
       "      <td>Not in Labor Force</td>\n",
       "      <td>kbazzjca</td>\n",
       "      <td>Non-MSA</td>\n",
       "      <td>NaN</td>\n",
       "      <td>NaN</td>\n",
       "      <td>4</td>\n",
       "      <td>0</td>\n",
       "    </tr>\n",
       "    <tr>\n",
       "      <th>6428</th>\n",
       "      <td>1.00000</td>\n",
       "      <td>1.00000</td>\n",
       "      <td>0.00000</td>\n",
       "      <td>nan</td>\n",
       "      <td>White</td>\n",
       "      <td>Male</td>\n",
       "      <td>Not Married</td>\n",
       "      <td>Employed</td>\n",
       "      <td>atmpeygn</td>\n",
       "      <td>Non-MSA</td>\n",
       "      <td>nduyfdeo</td>\n",
       "      <td>xtkaffoo</td>\n",
       "      <td>5</td>\n",
       "      <td>1</td>\n",
       "    </tr>\n",
       "    <tr>\n",
       "      <th>983</th>\n",
       "      <td>0.00000</td>\n",
       "      <td>0.00000</td>\n",
       "      <td>0.00000</td>\n",
       "      <td>0.00000</td>\n",
       "      <td>White</td>\n",
       "      <td>Male</td>\n",
       "      <td>Not Married</td>\n",
       "      <td>Employed</td>\n",
       "      <td>atmpeygn</td>\n",
       "      <td>MSA, Principle City</td>\n",
       "      <td>rucpziij</td>\n",
       "      <td>tfqavkke</td>\n",
       "      <td>1</td>\n",
       "      <td>0</td>\n",
       "    </tr>\n",
       "    <tr>\n",
       "      <th>19098</th>\n",
       "      <td>0.00000</td>\n",
       "      <td>0.00000</td>\n",
       "      <td>1.00000</td>\n",
       "      <td>1.00000</td>\n",
       "      <td>White</td>\n",
       "      <td>Female</td>\n",
       "      <td>Not Married</td>\n",
       "      <td>Employed</td>\n",
       "      <td>atmpeygn</td>\n",
       "      <td>Non-MSA</td>\n",
       "      <td>fcxhlnwr</td>\n",
       "      <td>haliazsg</td>\n",
       "      <td>1</td>\n",
       "      <td>0</td>\n",
       "    </tr>\n",
       "    <tr>\n",
       "      <th>...</th>\n",
       "      <td>...</td>\n",
       "      <td>...</td>\n",
       "      <td>...</td>\n",
       "      <td>...</td>\n",
       "      <td>...</td>\n",
       "      <td>...</td>\n",
       "      <td>...</td>\n",
       "      <td>...</td>\n",
       "      <td>...</td>\n",
       "      <td>...</td>\n",
       "      <td>...</td>\n",
       "      <td>...</td>\n",
       "      <td>...</td>\n",
       "      <td>...</td>\n",
       "    </tr>\n",
       "    <tr>\n",
       "      <th>1463</th>\n",
       "      <td>nan</td>\n",
       "      <td>0.00000</td>\n",
       "      <td>0.00000</td>\n",
       "      <td>nan</td>\n",
       "      <td>White</td>\n",
       "      <td>Female</td>\n",
       "      <td>Not Married</td>\n",
       "      <td>Not in Labor Force</td>\n",
       "      <td>fpwskwrf</td>\n",
       "      <td>Non-MSA</td>\n",
       "      <td>NaN</td>\n",
       "      <td>NaN</td>\n",
       "      <td>5</td>\n",
       "      <td>0</td>\n",
       "    </tr>\n",
       "    <tr>\n",
       "      <th>6579</th>\n",
       "      <td>0.00000</td>\n",
       "      <td>0.00000</td>\n",
       "      <td>0.00000</td>\n",
       "      <td>1.00000</td>\n",
       "      <td>White</td>\n",
       "      <td>Female</td>\n",
       "      <td>Not Married</td>\n",
       "      <td>Employed</td>\n",
       "      <td>qufhixun</td>\n",
       "      <td>MSA, Principle City</td>\n",
       "      <td>wlfvacwt</td>\n",
       "      <td>xgwztkwe</td>\n",
       "      <td>5</td>\n",
       "      <td>1</td>\n",
       "    </tr>\n",
       "    <tr>\n",
       "      <th>6149</th>\n",
       "      <td>1.00000</td>\n",
       "      <td>1.00000</td>\n",
       "      <td>0.00000</td>\n",
       "      <td>1.00000</td>\n",
       "      <td>White</td>\n",
       "      <td>Male</td>\n",
       "      <td>Not Married</td>\n",
       "      <td>Not in Labor Force</td>\n",
       "      <td>bhuqouqj</td>\n",
       "      <td>Non-MSA</td>\n",
       "      <td>NaN</td>\n",
       "      <td>NaN</td>\n",
       "      <td>5</td>\n",
       "      <td>1</td>\n",
       "    </tr>\n",
       "    <tr>\n",
       "      <th>16066</th>\n",
       "      <td>0.00000</td>\n",
       "      <td>0.00000</td>\n",
       "      <td>0.00000</td>\n",
       "      <td>nan</td>\n",
       "      <td>White</td>\n",
       "      <td>Female</td>\n",
       "      <td>Married</td>\n",
       "      <td>Not in Labor Force</td>\n",
       "      <td>bhuqouqj</td>\n",
       "      <td>MSA, Not Principle  City</td>\n",
       "      <td>NaN</td>\n",
       "      <td>NaN</td>\n",
       "      <td>5</td>\n",
       "      <td>1</td>\n",
       "    </tr>\n",
       "    <tr>\n",
       "      <th>26667</th>\n",
       "      <td>0.00000</td>\n",
       "      <td>0.00000</td>\n",
       "      <td>0.00000</td>\n",
       "      <td>0.00000</td>\n",
       "      <td>White</td>\n",
       "      <td>Male</td>\n",
       "      <td>Not Married</td>\n",
       "      <td>Unemployed</td>\n",
       "      <td>dqpwygqj</td>\n",
       "      <td>MSA, Not Principle  City</td>\n",
       "      <td>NaN</td>\n",
       "      <td>NaN</td>\n",
       "      <td>2</td>\n",
       "      <td>0</td>\n",
       "    </tr>\n",
       "  </tbody>\n",
       "</table>\n",
       "<p>20030 rows × 14 columns</p>\n",
       "</div>"
      ],
      "text/plain": [
       "       doctor_recc_seasonal  chronic_med_condition  health_worker  \\\n",
       "1850                0.00000                0.00000        0.00000   \n",
       "16644               1.00000                1.00000        0.00000   \n",
       "6428                1.00000                1.00000        0.00000   \n",
       "983                 0.00000                0.00000        0.00000   \n",
       "19098               0.00000                0.00000        1.00000   \n",
       "...                     ...                    ...            ...   \n",
       "1463                    nan                0.00000        0.00000   \n",
       "6579                0.00000                0.00000        0.00000   \n",
       "6149                1.00000                1.00000        0.00000   \n",
       "16066               0.00000                0.00000        0.00000   \n",
       "26667               0.00000                0.00000        0.00000   \n",
       "\n",
       "       health_insurance   race     sex marital_status   employment_status  \\\n",
       "1850                nan  White    Male        Married            Employed   \n",
       "16644               nan  White  Female        Married  Not in Labor Force   \n",
       "6428                nan  White    Male    Not Married            Employed   \n",
       "983             0.00000  White    Male    Not Married            Employed   \n",
       "19098           1.00000  White  Female    Not Married            Employed   \n",
       "...                 ...    ...     ...            ...                 ...   \n",
       "1463                nan  White  Female    Not Married  Not in Labor Force   \n",
       "6579            1.00000  White  Female    Not Married            Employed   \n",
       "6149            1.00000  White    Male    Not Married  Not in Labor Force   \n",
       "16066               nan  White  Female        Married  Not in Labor Force   \n",
       "26667           0.00000  White    Male    Not Married          Unemployed   \n",
       "\n",
       "      hhs_geo_region                census_msa employment_industry  \\\n",
       "1850        lzgpxyit  MSA, Not Principle  City            wxleyezf   \n",
       "16644       kbazzjca                   Non-MSA                 NaN   \n",
       "6428        atmpeygn                   Non-MSA            nduyfdeo   \n",
       "983         atmpeygn       MSA, Principle City            rucpziij   \n",
       "19098       atmpeygn                   Non-MSA            fcxhlnwr   \n",
       "...              ...                       ...                 ...   \n",
       "1463        fpwskwrf                   Non-MSA                 NaN   \n",
       "6579        qufhixun       MSA, Principle City            wlfvacwt   \n",
       "6149        bhuqouqj                   Non-MSA                 NaN   \n",
       "16066       bhuqouqj  MSA, Not Principle  City                 NaN   \n",
       "26667       dqpwygqj  MSA, Not Principle  City                 NaN   \n",
       "\n",
       "      employment_occupation  age_group_num  seasonal_vaccine  \n",
       "1850               emcorrxb              1                 0  \n",
       "16644                   NaN              4                 0  \n",
       "6428               xtkaffoo              5                 1  \n",
       "983                tfqavkke              1                 0  \n",
       "19098              haliazsg              1                 0  \n",
       "...                     ...            ...               ...  \n",
       "1463                    NaN              5                 0  \n",
       "6579               xgwztkwe              5                 1  \n",
       "6149                    NaN              5                 1  \n",
       "16066                   NaN              5                 1  \n",
       "26667                   NaN              2                 0  \n",
       "\n",
       "[20030 rows x 14 columns]"
      ]
     },
     "execution_count": 18,
     "metadata": {},
     "output_type": "execute_result"
    }
   ],
   "source": [
    "# concatenate X_train_plot and y_train to create a df for plotting bar graphs\n",
    "\n",
    "train_to_plot = pd.concat([X_train_plot, y_train], axis=1).drop(columns='age_group')\n",
    "train_to_plot"
   ]
  },
  {
   "cell_type": "code",
   "execution_count": 21,
   "metadata": {
    "scrolled": false
   },
   "outputs": [
    {
     "data": {
      "image/png": "[encoded data removed]",
      "text/plain": [
       "<Figure size 720x360 with 1 Axes>"
      ]
     },
     "metadata": {
      "needs_background": "light"
     },
     "output_type": "display_data"
    },
    {
     "data": {
      "image/png": "[encoded data removed]",
      "text/plain": [
       "<Figure size 720x360 with 1 Axes>"
      ]
     },
     "metadata": {
      "needs_background": "light"
     },
     "output_type": "display_data"
    },
    {
     "data": {
      "image/png": "[encoded data removed]",
      "text/plain": [
       "<Figure size 720x360 with 1 Axes>"
      ]
     },
     "metadata": {
      "needs_background": "light"
     },
     "output_type": "display_data"
    },
    {
     "data": {
      "image/png": "[encoded data removed]",
      "text/plain": [
       "<Figure size 720x360 with 1 Axes>"
      ]
     },
     "metadata": {
      "needs_background": "light"
     },
     "output_type": "display_data"
    },
    {
     "data": {
      "image/png": "[encoded data removed]",
      "text/plain": [
       "<Figure size 720x360 with 1 Axes>"
      ]
     },
     "metadata": {
      "needs_background": "light"
     },
     "output_type": "display_data"
    },
    {
     "data": {
      "image/png": "[encoded data removed]",
      "text/plain": [
       "<Figure size 720x360 with 1 Axes>"
      ]
     },
     "metadata": {
      "needs_background": "light"
     },
     "output_type": "display_data"
    },
    {
     "data": {
      "image/png": "[encoded data removed]",
      "text/plain": [
       "<Figure size 720x360 with 1 Axes>"
      ]
     },
     "metadata": {
      "needs_background": "light"
     },
     "output_type": "display_data"
    },
    {
     "data": {
      "image/png": "[encoded data removed]",
      "text/plain": [
       "<Figure size 720x360 with 1 Axes>"
      ]
     },
     "metadata": {
      "needs_background": "light"
     },
     "output_type": "display_data"
    },
    {
     "data": {
      "image/png": "[encoded data removed]",
      "text/plain": [
       "<Figure size 720x360 with 1 Axes>"
      ]
     },
     "metadata": {
      "needs_background": "light"
     },
     "output_type": "display_data"
    },
    {
     "data": {
      "image/png": "[encoded data removed]",
      "text/plain": [
       "<Figure size 720x360 with 1 Axes>"
      ]
     },
     "metadata": {
      "needs_background": "light"
     },
     "output_type": "display_data"
    },
    {
     "data": {
      "image/png": "[encoded data removed]",
      "text/plain": [
       "<Figure size 720x360 with 1 Axes>"
      ]
     },
     "metadata": {
      "needs_background": "light"
     },
     "output_type": "display_data"
    },
    {
     "data": {
      "image/png": "[encoded data removed]",
      "text/plain": [
       "<Figure size 720x360 with 1 Axes>"
      ]
     },
     "metadata": {
      "needs_background": "light"
     },
     "output_type": "display_data"
    },
    {
     "data": {
      "image/png": "[encoded data removed]",
      "text/plain": [
       "<Figure size 720x360 with 1 Axes>"
      ]
     },
     "metadata": {
      "needs_background": "light"
     },
     "output_type": "display_data"
    }
   ],
   "source": [
    "for c in train_to_plot.drop(columns=['seasonal_vaccine']).columns:\n",
    "    sns.catplot(x=c, y=\"seasonal_vaccine\", kind=\"bar\", data=train_to_plot, height=5, aspect=2)"
   ]
  },
  {
   "cell_type": "code",
   "execution_count": 38,
   "metadata": {},
   "outputs": [
    {
     "data": {
      "text/plain": [
       "<seaborn.axisgrid.FacetGrid at 0x1a1d1ba9e8>"
      ]
     },
     "execution_count": 38,
     "metadata": {},
     "output_type": "execute_result"
    },
    {
     "data": {
      "image/png": "[encoded data removed]",
      "text/plain": [
       "<Figure size 720x360 with 1 Axes>"
      ]
     },
     "metadata": {
      "needs_background": "light"
     },
     "output_type": "display_data"
    }
   ],
   "source": [
    "sort_order = train_to_plot.groupby('employment_industry')['seasonal_vaccine'].mean().sort_values(ascending=False).index.values\n",
    "plot = sns.catplot(data=train_to_plot, x='employment_industry', y='seasonal_vaccine', kind='bar', height=5, aspect=2, order=sort_order)\n",
    "plot.set_xticklabels(rotation=30)"
   ]
  },
  {
   "cell_type": "code",
   "execution_count": 23,
   "metadata": {},
   "outputs": [
    {
     "data": {
      "image/png": "[encoded data removed]",
      "text/plain": [
       "<Figure size 720x360 with 1 Axes>"
      ]
     },
     "metadata": {
      "needs_background": "light"
     },
     "output_type": "display_data"
    },
    {
     "data": {
      "image/png": "[encoded data removed]",
      "text/plain": [
       "<Figure size 720x360 with 1 Axes>"
      ]
     },
     "metadata": {
      "needs_background": "light"
     },
     "output_type": "display_data"
    }
   ],
   "source": [
    "col_list = ['employment_industry','employment_occupation']\n",
    "\n",
    "for c in col_list:\n",
    "    sns.catplot(x=c, y=\"seasonal_vaccine\", kind=\"bar\", data=train_to_plot, height=5, aspect=2)"
   ]
  },
  {
   "cell_type": "code",
   "execution_count": 20,
   "metadata": {
    "scrolled": false
   },
   "outputs": [
    {
     "data": {
      "image/png": "[encoded data removed]",
      "text/plain": [
       "<Figure size 720x360 with 1 Axes>"
      ]
     },
     "metadata": {
      "needs_background": "light"
     },
     "output_type": "display_data"
    },
    {
     "data": {
      "image/png": "[encoded data removed]",
      "text/plain": [
       "<Figure size 835.25x360 with 1 Axes>"
      ]
     },
     "metadata": {
      "needs_background": "light"
     },
     "output_type": "display_data"
    },
    {
     "data": {
      "image/png": "[encoded data removed]",
      "text/plain": [
       "<Figure size 835.25x360 with 1 Axes>"
      ]
     },
     "metadata": {
      "needs_background": "light"
     },
     "output_type": "display_data"
    },
    {
     "data": {
      "image/png": "[encoded data removed]",
      "text/plain": [
       "<Figure size 835.25x360 with 1 Axes>"
      ]
     },
     "metadata": {
      "needs_background": "light"
     },
     "output_type": "display_data"
    },
    {
     "data": {
      "image/png": "[encoded data removed]",
      "text/plain": [
       "<Figure size 835.25x360 with 1 Axes>"
      ]
     },
     "metadata": {
      "needs_background": "light"
     },
     "output_type": "display_data"
    },
    {
     "data": {
      "image/png": "[encoded data removed]",
      "text/plain": [
       "<Figure size 835.25x360 with 1 Axes>"
      ]
     },
     "metadata": {
      "needs_background": "light"
     },
     "output_type": "display_data"
    },
    {
     "data": {
      "image/png": "[encoded data removed]",
      "text/plain": [
       "<Figure size 835.25x360 with 1 Axes>"
      ]
     },
     "metadata": {
      "needs_background": "light"
     },
     "output_type": "display_data"
    },
    {
     "data": {
      "image/png": "[encoded data removed]",
      "text/plain": [
       "<Figure size 835.25x360 with 1 Axes>"
      ]
     },
     "metadata": {
      "needs_background": "light"
     },
     "output_type": "display_data"
    },
    {
     "data": {
      "image/png": "[encoded data removed]",
      "text/plain": [
       "<Figure size 835.25x360 with 1 Axes>"
      ]
     },
     "metadata": {
      "needs_background": "light"
     },
     "output_type": "display_data"
    },
    {
     "data": {
      "image/png": "[encoded data removed]",
      "text/plain": [
       "<Figure size 835.25x360 with 1 Axes>"
      ]
     },
     "metadata": {
      "needs_background": "light"
     },
     "output_type": "display_data"
    },
    {
     "data": {
      "image/png": "[encoded data removed]",
      "text/plain": [
       "<Figure size 835.25x360 with 1 Axes>"
      ]
     },
     "metadata": {
      "needs_background": "light"
     },
     "output_type": "display_data"
    },
    {
     "data": {
      "image/png": "[encoded data removed]",
      "text/plain": [
       "<Figure size 835.25x360 with 1 Axes>"
      ]
     },
     "metadata": {
      "needs_background": "light"
     },
     "output_type": "display_data"
    },
    {
     "data": {
      "image/png": "[encoded data removed]",
      "text/plain": [
       "<Figure size 835.25x360 with 1 Axes>"
      ]
     },
     "metadata": {
      "needs_background": "light"
     },
     "output_type": "display_data"
    }
   ],
   "source": [
    "# plot bar graphs for each variable vs target\n",
    "# test different hues to get sense of variable interactions\n",
    "# one interaction is between 'sex' and 'marital_status' - married men get more vaccines than unmarried men\n",
    "# also 'sex' and 'employment status' --> probably due to age\n",
    "# really interesting interaction between 'race' and 'census-msa'\n",
    "\n",
    "for c in train_to_plot.drop(columns=['seasonal_vaccine']).columns:\n",
    "    sns.catplot(x=c, y=\"seasonal_vaccine\", kind=\"bar\", hue='doctor_recc_seasonal', data=train_to_plot, height=5, aspect=2)"
   ]
  },
  {
   "cell_type": "code",
   "execution_count": null,
   "metadata": {},
   "outputs": [],
   "source": [
    "# investigate how many rows have nulls\n",
    "# cannot delete rows with missing health_insurance, since about 50%\n",
    "# check for overlaps in nulls in other 3 rows, may be possible to delete these rows\n",
    "\n",
    "X_train_delete_nulls = X_train.loc[(X_train['doctor_recc_seasonal'].notnull()\n",
    "                                      & X_train['chronic_med_condition'].notnull()\n",
    "                                      & X_train['health_worker'].notnull())]\n",
    "X_train_delete_nulls\n",
    "\n",
    "# if we delete all nulls in all 3 columns, we lose 2295 rows, 11% of data\n",
    "\n",
    "print('If I deleted rows with nulls in doctor_recc_seasonal, chronic_med_condition, health_worker:')\n",
    "print('Number of rows deleted:', len(X_train) - len(X_train_delete_nulls))\n",
    "print('Per cent of rows deleted:', round(((len(X_train) - len(X_train_delete_nulls))/len(X_train)*100),2), '%')\n",
    "\n",
    "# my instinct is to impute a dummy value, but could also test a model with these rows deleted"
   ]
  },
  {
   "cell_type": "code",
   "execution_count": null,
   "metadata": {},
   "outputs": [],
   "source": [
    "# encode categorical columns in X_train\n",
    "X_train_enc = pd.get_dummies(X_train, drop_first=False).drop(columns=['sex_Female','race_Other or Multiple'])\n"
   ]
  },
  {
   "cell_type": "code",
   "execution_count": null,
   "metadata": {},
   "outputs": [],
   "source": [
    "# 4 columns still have nulls\n",
    "X_train_enc.isna().sum()[:4]"
   ]
  },
  {
   "cell_type": "code",
   "execution_count": null,
   "metadata": {
    "scrolled": true
   },
   "outputs": [],
   "source": [
    "# create new columns to capture missing info prior to filling nans with 0\n",
    "\n",
    "X_train_nans=X_train_enc.copy()\n",
    "X_train_nans['null_doctor_recc'] = X_train_nans['doctor_recc_seasonal'].apply(lambda x:1 if pd.isnull(x) else 0)\n",
    "X_train_nans['null_chronic'] = X_train_nans['doctor_recc_seasonal'].apply(lambda x:1 if pd.isnull(x) else 0)\n",
    "X_train_nans['null_health_worker'] = X_train_nans['health_worker'].apply(lambda x:1 if pd.isnull(x) else 0)\n",
    "X_train_nans['null_health_ins'] = X_train_nans['health_insurance'].apply(lambda x:1 if pd.isnull(x) else 0)\n",
    "X_train_nans.head(100)\n"
   ]
  },
  {
   "cell_type": "code",
   "execution_count": null,
   "metadata": {},
   "outputs": [],
   "source": [
    "# fill nans with 0\n",
    "\n",
    "X_train_nans.fillna(value=0, inplace=True)\n",
    "X_train_nans.isna().sum().sum() #0\n",
    "X_train_nans.shape #(20030, 81)\n",
    "X_train_nans"
   ]
  },
  {
   "cell_type": "code",
   "execution_count": null,
   "metadata": {
    "scrolled": true
   },
   "outputs": [],
   "source": [
    "# run X_test thru same steps\n",
    "\n",
    "# encode categorical columns\n",
    "X_test_enc = pd.get_dummies(X_test, drop_first=False).drop(columns=['sex_Female','race_Other or Multiple'])\n",
    "\n",
    "# create columns to track null values\n",
    "X_test_nans=X_test_enc.copy()\n",
    "X_test_nans['null_doctor_recc'] = X_test_nans['doctor_recc_seasonal'].apply(lambda x:1 if pd.isnull(x) else 0)\n",
    "X_test_nans['null_chronic'] = X_test_nans['doctor_recc_seasonal'].apply(lambda x:1 if pd.isnull(x) else 0)\n",
    "X_test_nans['null_health_worker'] = X_test_nans['health_worker'].apply(lambda x:1 if pd.isnull(x) else 0)\n",
    "X_test_nans['null_health_ins'] = X_test_nans['health_insurance'].apply(lambda x:1 if pd.isnull(x) else 0)\n",
    "\n",
    "# fill remaining nulls with 0\n",
    "X_test_nans.fillna(value=0, inplace=True)\n",
    "\n",
    "X_test_nans"
   ]
  },
  {
   "cell_type": "code",
   "execution_count": null,
   "metadata": {},
   "outputs": [],
   "source": [
    "# plot ROC curves\n",
    "logreg = ut.logreg_predict_score(X_train_nans, X_test_nans, y_train, y_test)\n",
    "plot_roc_curve(logreg, X_train_nans, y_train)\n",
    "plot_roc_curve(logreg, X_test_nans, y_test)\n",
    "\n",
    "# slightly overfit"
   ]
  },
  {
   "cell_type": "code",
   "execution_count": null,
   "metadata": {},
   "outputs": [],
   "source": [
    "# scores when dropped 1 columns - female\n",
    "# ROC Scores\n",
    "# Train: 0.7817244813917411\n",
    "# Test: 0.7748843069535213\n",
    "\n",
    "# scores when dropped 2 columns - female and other race\n",
    "# ROC Scores\n",
    "# Train: 0.7803958619891809\n",
    "# Test: 0.7782699504901386\n",
    "\n",
    "# scores when 5 columns dropped\n",
    "# ROC Scores\n",
    "# Train: 0.780485435457886\n",
    "# Test: 0.772152694994743\n",
    "# worse!!!"
   ]
  },
  {
   "cell_type": "code",
   "execution_count": null,
   "metadata": {},
   "outputs": [],
   "source": [
    "# Let's scale it!  # test Standard Scaler\n",
    "\n",
    "scaler = StandardScaler()\n",
    "X_train_scaled = scaler.fit_transform(X_train_nans)\n",
    "X_test_scaled = scaler.transform(X_test_nans)"
   ]
  },
  {
   "cell_type": "code",
   "execution_count": null,
   "metadata": {},
   "outputs": [],
   "source": [
    "ut.logreg_predict_score(X_train_scaled, X_test_scaled, y_train, y_test)\n",
    "\n",
    "# no change - makes sense since everything is already on a 0-1 scale"
   ]
  },
  {
   "cell_type": "code",
   "execution_count": null,
   "metadata": {},
   "outputs": [],
   "source": [
    "# Let's scale it!  # test MixMax Scaler\n",
    "\n",
    "scaler = MinMaxScaler()\n",
    "X_train_scaled = scaler.fit_transform(X_train_nans)\n",
    "X_test_scaled = scaler.transform(X_test_nans)\n",
    "\n",
    "ut.logreg_predict_score(X_train_scaled, X_test_scaled, y_train, y_test)\n",
    "\n",
    "# no change - makes sense since everything is already on a 0-1 scale"
   ]
  },
  {
   "cell_type": "code",
   "execution_count": null,
   "metadata": {
    "scrolled": true
   },
   "outputs": [],
   "source": [
    "# add interaction term for man & married\n",
    "\n",
    "X_train_inter = X_train_nans.copy()\n",
    "X_train_inter['man_Married'] = X_train_inter['sex_Male'] * X_train_inter['marital_status_Married']\n",
    "X_train_inter"
   ]
  },
  {
   "cell_type": "code",
   "execution_count": null,
   "metadata": {
    "scrolled": true
   },
   "outputs": [],
   "source": [
    "# do same steps on X_test\n",
    "X_test_inter = X_test_nans.copy()\n",
    "X_test_inter['man_Married'] = X_test_inter['sex_Male'] * X_test_inter['marital_status_Married']\n",
    "X_test_inter"
   ]
  },
  {
   "cell_type": "code",
   "execution_count": null,
   "metadata": {},
   "outputs": [],
   "source": [
    "# test version with interaction term\n",
    "\n",
    "ut.logreg_predict_score(X_train_inter, X_test_inter, y_train, y_test)\n",
    "\n",
    "# no change"
   ]
  },
  {
   "cell_type": "code",
   "execution_count": null,
   "metadata": {},
   "outputs": [],
   "source": [
    "# test fit_intercept=True\n",
    "\n",
    "# make logistic regression\n",
    "logreg = LogisticRegression(fit_intercept=True, C=1e12, solver='liblinear')\n",
    "logreg.fit(X_train_nans, y_train)\n",
    "\n",
    "# print ROC scores\n",
    "ut.eval_model(X_train_nans, X_test_nans, y_train, y_test, logreg)\n",
    "\n",
    "# no change"
   ]
  },
  {
   "cell_type": "code",
   "execution_count": null,
   "metadata": {},
   "outputs": [],
   "source": [
    "# test C\n",
    "\n",
    "c_list = [10,100,1000]\n",
    "\n",
    "# make logreg and score\n",
    "for c in c_list:\n",
    "    # make logistic regression\n",
    "    logreg = LogisticRegression(fit_intercept=False, C=c, solver='liblinear')\n",
    "    logreg.fit(X_train_nans, y_train)\n",
    "    print(logreg)\n",
    "    ut.eval_model(X_train_nans, X_test_nans, y_train, y_test, logreg)\n",
    "    print('\\n')\n",
    "    \n",
    "# no change"
   ]
  },
  {
   "cell_type": "code",
   "execution_count": null,
   "metadata": {},
   "outputs": [],
   "source": [
    "# test solvers\n",
    "\n",
    "solvers = ['newton-cg', 'lbfgs', 'liblinear', 'sag', 'saga']\n",
    "\n",
    "for s in solvers:\n",
    "    # make logistic regression\n",
    "    logreg = LogisticRegression(fit_intercept=False, C=1e12, solver=s)\n",
    "    logreg.fit(X_train_nans, y_train)\n",
    "    # score\n",
    "    print(logreg)\n",
    "    ut.eval_model(X_train_nans, X_test_nans, y_train, y_test, logreg)\n",
    "    print('\\n')\n",
    "    \n",
    "    # no change"
   ]
  },
  {
   "cell_type": "code",
   "execution_count": null,
   "metadata": {
    "scrolled": true
   },
   "outputs": [],
   "source": [
    "# no change when using different scalers, adding interaction terms, or changing logreg parameters\n",
    "# stick with inital df (X_train_nans)\n",
    "# stick with initial values for logreg\n",
    "best_logreg = LogisticRegression(fit_intercept=False, C=1e12, solver='liblinear')\n",
    "best_logreg.fit(X_train_nans, y_train)\n",
    "\n",
    "# check out coefficients\n",
    "len(best_logreg.coef_[0])\n",
    "len(X_train_nans.columns)\n",
    "\n",
    "coef_dict={}\n",
    "\n",
    "for n, c in enumerate(X_train_nans.columns):\n",
    "    coef_dict[c]=round(best_logreg.coef_[0][n],2)\n",
    "\n",
    "sorted_coef_dict = {k: v for k, v in sorted(coef_dict.items(), key=lambda item: item[1], reverse=True)}\n",
    "\n",
    "df = pd.DataFrame.from_dict(sorted_coef_dict, orient='index', columns=['weight'])\n",
    "df['abs_weight']=np.abs(df['weight'])\n",
    "df.sort_values(by = 'abs_weight', ascending=False)"
   ]
  },
  {
   "cell_type": "code",
   "execution_count": null,
   "metadata": {
    "scrolled": true
   },
   "outputs": [],
   "source": [
    "# some coefficients are surprising, for example why is non-MSA service area such a big influence?\n",
    "# in the bar plots, the proportions of vaccine vs no vaccine looked similar to other groups\n",
    "# so I ran the lists below to be sure my coefficients were linking up to the right column labels\n",
    "# they are\n",
    "\n",
    "tuple_list = []\n",
    "\n",
    "for n in range(79):\n",
    "    tuple = (n, best_logreg.coef_[0][n])\n",
    "    tuple_list.append(tuple)\n",
    "    \n",
    "tuple_list"
   ]
  },
  {
   "cell_type": "code",
   "execution_count": null,
   "metadata": {
    "scrolled": true
   },
   "outputs": [],
   "source": [
    "col_list = []\n",
    "\n",
    "for n in range(79):\n",
    "    tuple = (n, X_train_nans.columns[n])\n",
    "    col_list.append(tuple)\n",
    "    \n",
    "col_list"
   ]
  },
  {
   "cell_type": "code",
   "execution_count": null,
   "metadata": {},
   "outputs": [],
   "source": [
    "# let's do another model!\n",
    "\n",
    "tree = DecisionTreeClassifier()\n",
    "\n",
    "ut.eval_model(X_train_nans, X_test_nans, y_train, y_test, tree)\n",
    "\n",
    "# yikes, that's really overfit!  let's prune the tree"
   ]
  },
  {
   "cell_type": "code",
   "execution_count": null,
   "metadata": {},
   "outputs": [],
   "source": [
    "tree = DecisionTreeClassifier(max_depth=6, min_samples_split=10, min_samples_leaf=5, max_features=55, criterion='gini')\n",
    "\n",
    "ut.eval_model(X_train_nans, X_test_nans, y_train, y_test, tree)\n",
    "\n",
    "# better, but not better than logreg"
   ]
  },
  {
   "cell_type": "code",
   "execution_count": null,
   "metadata": {},
   "outputs": [],
   "source": [
    "def order_features(weights, X_train):\n",
    "    \n",
    "    coef_dict = {}\n",
    "\n",
    "    for n, c in enumerate(X_train.columns):\n",
    "        coef_dict[c]=round(weights[n],4)\n",
    "\n",
    "    sorted_coef_dict = {k: v for k, v in sorted(coef_dict.items(), key=lambda item: item[1], reverse=True)}\n",
    "    df = pd.DataFrame.from_dict(sorted_coef_dict, orient='index', columns=['weight'])\n",
    "    df['abs_weight']=np.abs(df['weight'])\n",
    "    weights_df = df.sort_values(by = 'abs_weight', ascending=False)\n",
    "    \n",
    "    return weights_df"
   ]
  },
  {
   "cell_type": "code",
   "execution_count": null,
   "metadata": {},
   "outputs": [],
   "source": [
    "tree.feature_importances_"
   ]
  },
  {
   "cell_type": "code",
   "execution_count": null,
   "metadata": {},
   "outputs": [],
   "source": [
    "order_features(tree.feature_importances_, X_train_nans)"
   ]
  },
  {
   "cell_type": "code",
   "execution_count": null,
   "metadata": {},
   "outputs": [],
   "source": [
    "tree_param_grid = {'criterion': ['gini', 'entropy'],\n",
    "                 'max_depth': [None, 4, 6, 8],\n",
    "                 'min_samples_leaf': [10, 12, 14],\n",
    "                 'min_samples_split': [8, 10, 12],\n",
    "                  'max_features': [45, 50, 55]}\n",
    "                 \n",
    "tree_grid_search = GridSearchCV(tree, tree_param_grid, cv=3)\n",
    "tree_grid_search.fit(X_train_nans, y_train)\n",
    "\n",
    "print(f\"Training Accuracy: {tree_grid_search.best_score_ :.2%}\")\n",
    "print(\"\")\n",
    "print(f\"Optimal Parameters: {tree_grid_search.best_params_}\")"
   ]
  },
  {
   "cell_type": "code",
   "execution_count": null,
   "metadata": {},
   "outputs": [],
   "source": [
    "ut.eval_model(X_train_nans, X_test_nans, y_train, y_test, tree_grid_search)"
   ]
  },
  {
   "cell_type": "code",
   "execution_count": null,
   "metadata": {},
   "outputs": [],
   "source": [
    "tree_grid_search.best_estimator_.feature_importances_"
   ]
  },
  {
   "cell_type": "code",
   "execution_count": null,
   "metadata": {},
   "outputs": [],
   "source": [
    "order_features(tree_grid_search.best_estimator_.feature_importances_, X_train_nans)"
   ]
  },
  {
   "cell_type": "code",
   "execution_count": null,
   "metadata": {},
   "outputs": [],
   "source": [
    "bagged_tree = BaggingClassifier(DecisionTreeClassifier(criterion='gini', max_depth=5), n_estimators=20)\n",
    "bagged_tree.fit(X_train_nans, y_train)"
   ]
  },
  {
   "cell_type": "code",
   "execution_count": null,
   "metadata": {},
   "outputs": [],
   "source": [
    "ut.eval_model(X_train_nans, X_test_nans, y_train, y_test, bagged_tree)\n",
    "\n",
    "# better score.  Try a random forest"
   ]
  },
  {
   "cell_type": "code",
   "execution_count": null,
   "metadata": {},
   "outputs": [],
   "source": [
    "forest = RandomForestClassifier(n_estimators=100, max_depth=5)\n",
    "forest.fit(X_train_nans, y_train)"
   ]
  },
  {
   "cell_type": "code",
   "execution_count": null,
   "metadata": {},
   "outputs": [],
   "source": [
    "ut.eval_model(X_train_nans, X_test_nans, y_train, y_test, forest)\n",
    "\n",
    "# even better score.  Try grid search with random forest."
   ]
  },
  {
   "cell_type": "code",
   "execution_count": null,
   "metadata": {},
   "outputs": [],
   "source": [
    "rf_param_grid = {'n_estimators': [50, 100, 150],\n",
    "                 'criterion': ['gini', 'entropy'],\n",
    "                 'max_depth': [6, 10, 14],\n",
    "                 'min_samples_leaf': [3, 6, 9],\n",
    "                'min_samples_split': [5, 10, 15]}\n",
    "                 \n",
    "rf_grid_search = GridSearchCV(forest, rf_param_grid, cv=3)\n",
    "rf_grid_search.fit(X_train_nans, y_train)\n",
    "\n",
    "print(f\"Training Accuracy: {rf_grid_search.best_score_ :.2%}\")\n",
    "print(\"\")\n",
    "print(f\"Optimal Parameters: {rf_grid_search.best_params_}\")\n",
    "\n"
   ]
  },
  {
   "cell_type": "code",
   "execution_count": null,
   "metadata": {},
   "outputs": [],
   "source": [
    "ut.eval_model(X_train_nans, X_test_nans, y_train, y_test, rf_grid_search)"
   ]
  },
  {
   "cell_type": "code",
   "execution_count": null,
   "metadata": {},
   "outputs": [],
   "source": [
    "XGB = XGBClassifier()\n",
    "\n",
    "# Fit XGBClassifier\n",
    "XGB.fit(X_train_nans, y_train)\n"
   ]
  },
  {
   "cell_type": "code",
   "execution_count": null,
   "metadata": {},
   "outputs": [],
   "source": [
    "ut.eval_model(X_train_nans, X_test_nans, y_train, y_test, XGB)\n",
    "#even better!"
   ]
  },
  {
   "cell_type": "code",
   "execution_count": null,
   "metadata": {},
   "outputs": [],
   "source": [
    "xgb_param_grid = {\n",
    "    'learning_rate': [0.1, 0.2],\n",
    "    'max_depth': [6, 8],\n",
    "    'min_child_weight': [1, 2],\n",
    "    'subsample': [0.5, 0.7],\n",
    "    'n_estimators': [100]}"
   ]
  },
  {
   "cell_type": "code",
   "execution_count": null,
   "metadata": {},
   "outputs": [],
   "source": [
    "grid_XGB = GridSearchCV(XGB, xgb_param_grid, cv=None, n_jobs=1)\n",
    "grid_XGB.fit(X_train_nans, y_train)\n",
    "# not better... try different parameters?"
   ]
  },
  {
   "cell_type": "code",
   "execution_count": null,
   "metadata": {},
   "outputs": [],
   "source": [
    "ut.eval_model(X_train_nans, X_test_nans, y_train, y_test, grid_XGB)"
   ]
  },
  {
   "cell_type": "code",
   "execution_count": null,
   "metadata": {},
   "outputs": [],
   "source": [
    "SVM = SVC(kernel='linear')\n",
    "SVM.fit(X_train_nans, y_train)"
   ]
  },
  {
   "cell_type": "code",
   "execution_count": null,
   "metadata": {},
   "outputs": [],
   "source": [
    "y_train_pred = SVM.predict(X_train_nans)\n",
    "y_test_pred = SVM.predict(X_test_nans)\n",
    "\n",
    "#     print('ROC Scores')\n",
    "#     print('Train:', roc_auc_score(y_train, model.predict_proba(X_train)[:,1]))\n",
    "#     print('Test:', roc_auc_score(y_test, model.predict_proba(X_test)[:,1]))\n",
    "#     print('\\n')\n",
    "print('Accuracy Scores')\n",
    "print('Train:', accuracy_score(y_train, y_train_pred))\n",
    "print('Test:', accuracy_score(y_test, y_test_pred))\n",
    "print('\\n')\n",
    "print('F1 Scores')\n",
    "print('Train:', f1_score(y_train, y_train_pred))\n",
    "print('Test:', f1_score(y_test, y_test_pred))\n",
    "\n",
    "#     plot_roc_curve(model, X_train, y_train)\n",
    "#     plot_roc_curve(model, X_test, y_test);\n",
    "\n",
    "# worse scores"
   ]
  },
  {
   "cell_type": "code",
   "execution_count": null,
   "metadata": {},
   "outputs": [],
   "source": [
    "ut.eval_model(X_train_nans, X_test_nans, y_train, y_test, SVM)"
   ]
  },
  {
   "cell_type": "code",
   "execution_count": null,
   "metadata": {},
   "outputs": [],
   "source": []
  }
 ],
 "metadata": {
  "kernelspec": {
   "display_name": "Python 3",
   "language": "python",
   "name": "python3"
  },
  "language_info": {
   "codemirror_mode": {
    "name": "ipython",
    "version": 3
   },
   "file_extension": ".py",
   "mimetype": "text/x-python",
   "name": "python",
   "nbconvert_exporter": "python",
   "pygments_lexer": "ipython3",
   "version": "3.6.9"
  }
 },
 "nbformat": 4,
 "nbformat_minor": 4
}

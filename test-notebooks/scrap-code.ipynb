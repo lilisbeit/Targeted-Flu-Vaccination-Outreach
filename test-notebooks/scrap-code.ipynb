{
 "cells": [
  {
   "cell_type": "code",
   "execution_count": null,
   "metadata": {},
   "outputs": [],
   "source": [
    "# # create new X_train_2 with 'age_group_num' column based on age_group\n",
    "# # values go from 1-5 in order of increasing age\n",
    "\n",
    "# X_train_2 = X_train.copy()\n",
    "# X_train_2['age_group_num'] = X_train_2['age_group'].apply(lambda x:1 if (x == '18 - 34 Years')\n",
    "#                                                         else 2 if (x == '35 - 44 Years')\n",
    "#                                                         else 3 if (x == '45 - 54 Years')\n",
    "#                                                         else 4 if (x == '55 - 64 Years')\n",
    "#                                                         else 5)\n",
    "\n",
    "# # drop old age group column\n",
    "\n",
    "# X_train_2.drop(columns='age_group', inplace=True)\n",
    "# X_train_2"
   ]
  },
  {
   "cell_type": "code",
   "execution_count": null,
   "metadata": {},
   "outputs": [],
   "source": [
    "X_train_filled = pd.DataFrame.fillna(X_train_enc, 'missing')\n",
    "\n",
    "X_train_dummies = pd.get_dummies(X_train_filled, drop_first=True)\n",
    "\n",
    "# do same steps on X_test\n",
    "\n",
    "X_test_filled = pd.DataFrame.fillna(X_test_enc, 'missing')\n",
    "X_test_dummies = pd.get_dummies(X_test_filled, drop_first=True)"
   ]
  },
  {
   "cell_type": "code",
   "execution_count": null,
   "metadata": {},
   "outputs": [],
   "source": [
    "scale_logreg_predict(X_train_inter, y_train, X_test_inter)"
   ]
  }
 ],
 "metadata": {
  "kernelspec": {
   "display_name": "Python 3",
   "language": "python",
   "name": "python3"
  },
  "language_info": {
   "codemirror_mode": {
    "name": "ipython",
    "version": 3
   },
   "file_extension": ".py",
   "mimetype": "text/x-python",
   "name": "python",
   "nbconvert_exporter": "python",
   "pygments_lexer": "ipython3",
   "version": "3.6.9"
  }
 },
 "nbformat": 4,
 "nbformat_minor": 4
}
